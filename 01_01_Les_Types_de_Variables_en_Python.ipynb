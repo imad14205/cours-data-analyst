{
  "cells": [
    {
      "cell_type": "markdown",
      "metadata": {
        "id": "view-in-github",
        "colab_type": "text"
      },
      "source": [
        "<a href=\"https://colab.research.google.com/github/imad14205/cours-data-analyst/blob/main/01_01_Les_Types_de_Variables_en_Python.ipynb\" target=\"_parent\"><img src=\"https://colab.research.google.com/assets/colab-badge.svg\" alt=\"Open In Colab\"/></a>"
      ]
    },
    {
      "cell_type": "markdown",
      "source": [
        "### **Module 1 : Les bases de Python 🐍**"
      ],
      "metadata": {
        "id": "UgqiNyw4zafK"
      }
    },
    {
      "cell_type": "markdown",
      "metadata": {
        "id": "TsYlZyrKJsr0"
      },
      "source": [
        "# Les Variables et opérateurs"
      ]
    },
    {
      "cell_type": "markdown",
      "metadata": {
        "id": "MwOQGNSfJsr6"
      },
      "source": [
        "Une variable est comme une case de mémoire dans notre ordinateur, à laquelle on donne un nom et une valeur qui peut changer. Sur la figure suivante, nous avons un carton appélé `Variable` et dans laquelle on met de la donnée (Data). On peut changer le contenu du carton ou y ajouter plusieurs autres éléments."
      ]
    },
    {
      "cell_type": "markdown",
      "metadata": {
        "id": "9o_hItGqzMSh"
      },
      "source": [
        "![variables.png](data:image/png;base64,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)"
      ]
    },
    {
      "cell_type": "markdown",
      "metadata": {
        "id": "tc6HloV2zMSi"
      },
      "source": [
        "Voici comment définir une variable avec sa valeur en Python :"
      ]
    },
    {
      "cell_type": "code",
      "execution_count": 1,
      "metadata": {
        "id": "mEOPJ5ULJsr7"
      },
      "outputs": [],
      "source": [
        "poids = 89"
      ]
    },
    {
      "cell_type": "markdown",
      "metadata": {
        "id": "JdJGa6zSJsr8"
      },
      "source": [
        "Ici, nous avons donné le nom `poids` à notre variable et elle contient la valeur 89. La valeur d'une variable peut changer, donc on peut faire ceci:"
      ]
    },
    {
      "cell_type": "code",
      "execution_count": 2,
      "metadata": {
        "id": "Hf5g6moNJsr8"
      },
      "outputs": [],
      "source": [
        "poids = 82"
      ]
    },
    {
      "cell_type": "markdown",
      "metadata": {
        "id": "YRELxTBSJsr9"
      },
      "source": [
        "Désormais, notre variable `poids` contient la valeur 82. On peut l'afficher pour vérifier avec le fonction `print`"
      ]
    },
    {
      "cell_type": "code",
      "execution_count": 19,
      "metadata": {
        "id": "rxppGTcSJsr9",
        "outputId": "ff5a9c62-0b45-4288-b142-3601b372c06f",
        "colab": {
          "base_uri": "https://localhost:8080/"
        }
      },
      "outputs": [
        {
          "output_type": "stream",
          "name": "stdout",
          "text": [
            "82\n"
          ]
        }
      ],
      "source": [
        "print(poids)"
      ]
    },
    {
      "cell_type": "markdown",
      "metadata": {
        "id": "tHNl3weNJsr-"
      },
      "source": [
        "Pour donc affichier la valeur d'une variable, il faut écrire `print` suivi de parathèses `()` avec à l'intérieur le nom de notre variable. Puisqu'on est dans un notebook, on peut aussi afficher la valeur d'une variable simplement en tapant le nom comme ceci :"
      ]
    },
    {
      "cell_type": "code",
      "execution_count": 20,
      "metadata": {
        "id": "80kS2_d4Jsr-",
        "outputId": "031f01cc-c276-4a1f-8301-eba552421181",
        "colab": {
          "base_uri": "https://localhost:8080/"
        }
      },
      "outputs": [
        {
          "output_type": "execute_result",
          "data": {
            "text/plain": [
              "82"
            ]
          },
          "metadata": {},
          "execution_count": 20
        }
      ],
      "source": [
        "poids"
      ]
    },
    {
      "cell_type": "markdown",
      "metadata": {
        "id": "BQ0vqoM2Jsr_"
      },
      "source": [
        "Que se passe-t-il quand je nomme ma variable `2poids` pour dire que c'est un second poids ? Essayons:"
      ]
    },
    {
      "cell_type": "code",
      "execution_count": 18,
      "metadata": {
        "id": "B0vOkYyCJsr_"
      },
      "outputs": [],
      "source": [
        "2poids = 25"
      ]
    },
    {
      "cell_type": "markdown",
      "metadata": {
        "id": "W_Bjzg80JssA"
      },
      "source": [
        "On obtient une erreur. Cela est dû au fait qu'en Python le nom d'une variable ne peut commencer par un chiffre. Par convention, il est recommandé d'utiliser les lettres miniscules et le tiret du 8 `_` pour nommer une variable. N'oublions pas que le nom ne peut contenir un espace. Une variable pour designer l'âge de Kevin pourrait donc s'appeler `lage_de_imad`."
      ]
    },
    {
      "cell_type": "code",
      "execution_count": 21,
      "metadata": {
        "id": "u0Hy22jWJssA"
      },
      "outputs": [],
      "source": [
        "lage_de_imad = 31"
      ]
    },
    {
      "cell_type": "markdown",
      "metadata": {
        "id": "rHxLluEzJssA"
      },
      "source": [
        "On peut faire des opérations mathématiques sur les variables :"
      ]
    },
    {
      "cell_type": "markdown",
      "metadata": {
        "id": "wRrg08tUJssB"
      },
      "source": [
        "**addiction**"
      ]
    },
    {
      "cell_type": "code",
      "execution_count": 22,
      "metadata": {
        "id": "9pvruivwJssB",
        "outputId": "6e120011-9781-4e3d-fcb2-791d86c6942c",
        "colab": {
          "base_uri": "https://localhost:8080/"
        }
      },
      "outputs": [
        {
          "output_type": "execute_result",
          "data": {
            "text/plain": [
              "45"
            ]
          },
          "metadata": {},
          "execution_count": 22
        }
      ],
      "source": [
        "15 + 30"
      ]
    },
    {
      "cell_type": "code",
      "execution_count": 25,
      "metadata": {
        "id": "nLKz1oR4JssB",
        "outputId": "9dfcd947-5bcd-4df3-e546-ae8d54486cd8",
        "colab": {
          "base_uri": "https://localhost:8080/"
        }
      },
      "outputs": [
        {
          "output_type": "stream",
          "name": "stdout",
          "text": [
            "9\n"
          ]
        }
      ],
      "source": [
        "nombre = 5\n",
        "print(nombre + 4)"
      ]
    },
    {
      "cell_type": "markdown",
      "source": [
        "regarder la simpliciter de python en le comparant par C"
      ],
      "metadata": {
        "id": "2dqcNMfC3EIr"
      }
    },
    {
      "cell_type": "code",
      "source": [
        "%%writefile addition.c\n",
        "\n",
        "#include <stdio.h>\n",
        "\n",
        "int main() {\n",
        "    int a = 15;\n",
        "    int b = 30;\n",
        "    int somme = a + b;\n",
        "\n",
        "    printf(\"La somme de %d et %d est : %d\\n\", a, b, somme);\n",
        "\n",
        "    return 0;\n",
        "}\n"
      ],
      "metadata": {
        "colab": {
          "base_uri": "https://localhost:8080/"
        },
        "id": "NqljmuGD2xNP",
        "outputId": "0cf78630-7b78-4695-aca5-4de070fdfb44"
      },
      "execution_count": 23,
      "outputs": [
        {
          "output_type": "stream",
          "name": "stdout",
          "text": [
            "Writing addition.c\n"
          ]
        }
      ]
    },
    {
      "cell_type": "code",
      "source": [
        "!gcc addition.c -o addition_executable\n",
        "!./addition_executable"
      ],
      "metadata": {
        "colab": {
          "base_uri": "https://localhost:8080/"
        },
        "id": "A2yrWZok2zj6",
        "outputId": "d71953e8-4e86-4169-90fb-499bd4c2c1c4"
      },
      "execution_count": 24,
      "outputs": [
        {
          "output_type": "stream",
          "name": "stdout",
          "text": [
            "La somme de 15 et 30 est : 45\n"
          ]
        }
      ]
    },
    {
      "cell_type": "markdown",
      "metadata": {
        "id": "wKoZ09vDJssB"
      },
      "source": [
        "**soustraction**"
      ]
    },
    {
      "cell_type": "code",
      "execution_count": 26,
      "metadata": {
        "id": "KQbV_Mh4JssC",
        "outputId": "e72b9111-1940-4473-8ce4-90aa173c3509",
        "colab": {
          "base_uri": "https://localhost:8080/"
        }
      },
      "outputs": [
        {
          "output_type": "execute_result",
          "data": {
            "text/plain": [
              "84"
            ]
          },
          "metadata": {},
          "execution_count": 26
        }
      ],
      "source": [
        "96 - 12"
      ]
    },
    {
      "cell_type": "code",
      "execution_count": 27,
      "metadata": {
        "id": "4JEU36_4JssC",
        "outputId": "83e20446-25e8-4ae7-c180-ab1706c70fe4",
        "colab": {
          "base_uri": "https://localhost:8080/"
        }
      },
      "outputs": [
        {
          "output_type": "stream",
          "name": "stdout",
          "text": [
            "3\n"
          ]
        }
      ],
      "source": [
        "print(nombre - 2)"
      ]
    },
    {
      "cell_type": "markdown",
      "metadata": {
        "id": "S3v18HL6JssC"
      },
      "source": [
        "**Multiplication**"
      ]
    },
    {
      "cell_type": "code",
      "execution_count": 28,
      "metadata": {
        "id": "LK86qZPjJssD",
        "outputId": "73c2080e-12c2-4009-c23d-69d5f6057a4f",
        "colab": {
          "base_uri": "https://localhost:8080/"
        }
      },
      "outputs": [
        {
          "output_type": "execute_result",
          "data": {
            "text/plain": [
              "15"
            ]
          },
          "metadata": {},
          "execution_count": 28
        }
      ],
      "source": [
        "5 * 3"
      ]
    },
    {
      "cell_type": "code",
      "execution_count": 29,
      "metadata": {
        "id": "zUz_BZNNJssD",
        "outputId": "64636516-8dd1-411f-9023-7cf70b6eb1f7",
        "colab": {
          "base_uri": "https://localhost:8080/"
        }
      },
      "outputs": [
        {
          "output_type": "stream",
          "name": "stdout",
          "text": [
            "10\n"
          ]
        }
      ],
      "source": [
        "print(nombre * 2)"
      ]
    },
    {
      "cell_type": "markdown",
      "metadata": {
        "id": "afjB3mbPJssD"
      },
      "source": [
        "**Division**"
      ]
    },
    {
      "cell_type": "code",
      "execution_count": 30,
      "metadata": {
        "id": "TjbhNu2GJssD",
        "outputId": "0ac4aa4c-5614-4817-b6f0-5fca5c183d4c",
        "colab": {
          "base_uri": "https://localhost:8080/"
        }
      },
      "outputs": [
        {
          "output_type": "execute_result",
          "data": {
            "text/plain": [
              "3.0"
            ]
          },
          "metadata": {},
          "execution_count": 30
        }
      ],
      "source": [
        "27 / 9"
      ]
    },
    {
      "cell_type": "code",
      "execution_count": 31,
      "metadata": {
        "id": "JTzwG3t-JssE",
        "outputId": "64ab755d-afb2-4190-9c76-e3eec86b02e4",
        "colab": {
          "base_uri": "https://localhost:8080/"
        }
      },
      "outputs": [
        {
          "output_type": "execute_result",
          "data": {
            "text/plain": [
              "12.5"
            ]
          },
          "metadata": {},
          "execution_count": 31
        }
      ],
      "source": [
        "25 / 2"
      ]
    },
    {
      "cell_type": "markdown",
      "metadata": {
        "id": "c0T7mtJoJssE"
      },
      "source": [
        "On peut décider d'extraire uniquement le quotient de la division (le resultat de la division sans virgule)"
      ]
    },
    {
      "cell_type": "code",
      "execution_count": 32,
      "metadata": {
        "id": "kqzH0XVlJssE",
        "outputId": "c2e44b8c-e463-4b61-85c3-f65e7c2e5923",
        "colab": {
          "base_uri": "https://localhost:8080/"
        }
      },
      "outputs": [
        {
          "output_type": "execute_result",
          "data": {
            "text/plain": [
              "12"
            ]
          },
          "metadata": {},
          "execution_count": 32
        }
      ],
      "source": [
        "25 // 2"
      ]
    },
    {
      "cell_type": "markdown",
      "metadata": {
        "id": "XkCNb1B9JssF"
      },
      "source": [
        "**Exposant**"
      ]
    },
    {
      "cell_type": "code",
      "execution_count": 33,
      "metadata": {
        "id": "K-krY4EdJssF",
        "outputId": "fa73fb4b-d936-4eab-cf26-e5b9e67a1a78",
        "colab": {
          "base_uri": "https://localhost:8080/"
        }
      },
      "outputs": [
        {
          "output_type": "execute_result",
          "data": {
            "text/plain": [
              "32"
            ]
          },
          "metadata": {},
          "execution_count": 33
        }
      ],
      "source": [
        "2 ** 5"
      ]
    },
    {
      "cell_type": "code",
      "execution_count": 34,
      "metadata": {
        "id": "pi_SkejXJssF",
        "outputId": "8ac5a049-ef02-47cc-84d5-e8b700bd9b0b",
        "colab": {
          "base_uri": "https://localhost:8080/"
        }
      },
      "outputs": [
        {
          "output_type": "execute_result",
          "data": {
            "text/plain": [
              "1"
            ]
          },
          "metadata": {},
          "execution_count": 34
        }
      ],
      "source": [
        "15 ** 0"
      ]
    },
    {
      "cell_type": "markdown",
      "metadata": {
        "id": "6otBPhSfJssF"
      },
      "source": [
        "**Modulo (Reste de la division)**"
      ]
    },
    {
      "cell_type": "code",
      "execution_count": 35,
      "metadata": {
        "id": "ZP8CXnAlJssG",
        "outputId": "795829b6-08b2-4802-a7bb-b446940039d4",
        "colab": {
          "base_uri": "https://localhost:8080/"
        }
      },
      "outputs": [
        {
          "output_type": "execute_result",
          "data": {
            "text/plain": [
              "1"
            ]
          },
          "metadata": {},
          "execution_count": 35
        }
      ],
      "source": [
        "89 % 2"
      ]
    },
    {
      "cell_type": "markdown",
      "metadata": {
        "id": "4kIMVv0wJssG"
      },
      "source": [
        "On peut donc dire qu'un nombre est pair par exemple si ce nombre modulo 2 est 1 et non 0"
      ]
    },
    {
      "cell_type": "code",
      "execution_count": 36,
      "metadata": {
        "id": "7439TaUeJssG"
      },
      "outputs": [],
      "source": [
        "est_pair = 27 % 2"
      ]
    },
    {
      "cell_type": "code",
      "execution_count": 37,
      "metadata": {
        "id": "IUa_o8KVJssG",
        "outputId": "72188e5e-4438-48fe-8985-06ed28bfc619",
        "colab": {
          "base_uri": "https://localhost:8080/"
        }
      },
      "outputs": [
        {
          "output_type": "execute_result",
          "data": {
            "text/plain": [
              "1"
            ]
          },
          "metadata": {},
          "execution_count": 37
        }
      ],
      "source": [
        "est_pair"
      ]
    },
    {
      "cell_type": "markdown",
      "metadata": {
        "id": "KjMC5R-cJssH"
      },
      "source": [
        "On peut stocker le resultat de l'opération sur une variable avec le même nom"
      ]
    },
    {
      "cell_type": "code",
      "execution_count": 38,
      "metadata": {
        "id": "FBL543CqJssH"
      },
      "outputs": [],
      "source": [
        "nombres_de_voitures = 5"
      ]
    },
    {
      "cell_type": "code",
      "execution_count": 39,
      "metadata": {
        "id": "HaY6hFZzJssH"
      },
      "outputs": [],
      "source": [
        "nombres_de_voitures = nombres_de_voitures + 15"
      ]
    },
    {
      "cell_type": "code",
      "execution_count": 42,
      "metadata": {
        "id": "dFx9dqUdJssH",
        "outputId": "9349afc4-3cb8-4818-f9fe-031b4c817e70",
        "colab": {
          "base_uri": "https://localhost:8080/"
        }
      },
      "outputs": [
        {
          "output_type": "execute_result",
          "data": {
            "text/plain": [
              "50"
            ]
          },
          "metadata": {},
          "execution_count": 42
        }
      ],
      "source": [
        "nombres_de_voitures"
      ]
    },
    {
      "cell_type": "markdown",
      "metadata": {
        "id": "YciAx_yCJssI"
      },
      "source": [
        "on peut réecrire l'opération de cette manière"
      ]
    },
    {
      "cell_type": "code",
      "execution_count": 43,
      "metadata": {
        "id": "nY0v0Cs0JssI"
      },
      "outputs": [],
      "source": [
        "nombres_de_voitures += 15"
      ]
    },
    {
      "cell_type": "code",
      "execution_count": 44,
      "metadata": {
        "id": "dpHRL_EfJssI",
        "outputId": "59131175-e687-4c18-ac8b-a4ff0cbcc6bd",
        "colab": {
          "base_uri": "https://localhost:8080/"
        }
      },
      "outputs": [
        {
          "output_type": "execute_result",
          "data": {
            "text/plain": [
              "65"
            ]
          },
          "metadata": {},
          "execution_count": 44
        }
      ],
      "source": [
        "nombres_de_voitures"
      ]
    },
    {
      "cell_type": "code",
      "execution_count": 45,
      "metadata": {
        "id": "0Mlsw3DIJssI"
      },
      "outputs": [],
      "source": [
        "nombres_de_voitures -= 3"
      ]
    },
    {
      "cell_type": "code",
      "execution_count": 46,
      "metadata": {
        "id": "iVbFgLA9JssJ",
        "outputId": "dc0a381d-7f87-4964-bd15-06ae48012d57",
        "colab": {
          "base_uri": "https://localhost:8080/"
        }
      },
      "outputs": [
        {
          "output_type": "execute_result",
          "data": {
            "text/plain": [
              "62"
            ]
          },
          "metadata": {},
          "execution_count": 46
        }
      ],
      "source": [
        "nombres_de_voitures"
      ]
    },
    {
      "cell_type": "code",
      "execution_count": 47,
      "metadata": {
        "id": "4MCijTamJssJ"
      },
      "outputs": [],
      "source": [
        "nombres_de_voitures /= 2"
      ]
    },
    {
      "cell_type": "code",
      "execution_count": 48,
      "metadata": {
        "id": "-njxXlRvJssJ",
        "outputId": "b6a28b4f-3ac7-4bc2-fc1f-97ebd8920e45",
        "colab": {
          "base_uri": "https://localhost:8080/"
        }
      },
      "outputs": [
        {
          "output_type": "execute_result",
          "data": {
            "text/plain": [
              "31.0"
            ]
          },
          "metadata": {},
          "execution_count": 48
        }
      ],
      "source": [
        "nombres_de_voitures"
      ]
    },
    {
      "cell_type": "code",
      "execution_count": null,
      "metadata": {
        "id": "Q_bUb5cIJssJ"
      },
      "outputs": [],
      "source": [
        "nombres_de_voitures *= 3"
      ]
    },
    {
      "cell_type": "code",
      "execution_count": null,
      "metadata": {
        "id": "NoJdGOc_JssK"
      },
      "outputs": [],
      "source": [
        "nombres_de_voitures"
      ]
    },
    {
      "cell_type": "markdown",
      "metadata": {
        "id": "HaVBhmDwJssK"
      },
      "source": [
        "**Ordre de priorité des opération: P E M D A S**"
      ]
    },
    {
      "cell_type": "markdown",
      "metadata": {
        "id": "LUOKoFkSzMS6"
      },
      "source": [
        "Il existe un ordre d'exécution des opérations en Python. Il s'agit de :\n",
        "* Parenthèses\n",
        "* Exposants\n",
        "* Multiplication\n",
        "* Division\n",
        "* Addition\n",
        "* Soustraction"
      ]
    },
    {
      "cell_type": "code",
      "execution_count": null,
      "metadata": {
        "id": "AalHiYAlJssK",
        "outputId": "32fa9b76-9ca3-4ec6-ef3b-b88c87d9375a"
      },
      "outputs": [
        {
          "data": {
            "text/plain": [
              "87"
            ]
          },
          "execution_count": 31,
          "metadata": {},
          "output_type": "execute_result"
        }
      ],
      "source": [
        "15 + 8 * 3 ** 2"
      ]
    },
    {
      "cell_type": "code",
      "execution_count": null,
      "metadata": {
        "id": "K_QZyzI4JssK",
        "outputId": "8002eb08-10b8-4855-846d-d4dd87c729a4"
      },
      "outputs": [
        {
          "data": {
            "text/plain": [
              "207"
            ]
          },
          "execution_count": 32,
          "metadata": {},
          "output_type": "execute_result"
        }
      ],
      "source": [
        "(15 + 8) * 3 ** 2"
      ]
    },
    {
      "cell_type": "code",
      "execution_count": null,
      "metadata": {
        "id": "NTY-UfIDJssL"
      },
      "outputs": [],
      "source": []
    },
    {
      "cell_type": "markdown",
      "metadata": {
        "id": "bAkgM3AWJssL"
      },
      "source": [
        "# Les Types de variables en Python"
      ]
    },
    {
      "cell_type": "markdown",
      "metadata": {
        "id": "qM6cMi-6JssL"
      },
      "source": [
        "Il existe plusieurs types de variables en Python."
      ]
    },
    {
      "cell_type": "markdown",
      "metadata": {
        "id": "UySdINyHJssL"
      },
      "source": [
        "## Les nombres entiers"
      ]
    },
    {
      "cell_type": "code",
      "execution_count": null,
      "metadata": {
        "id": "MlhqqBm_JssM"
      },
      "outputs": [],
      "source": [
        "age = 15"
      ]
    },
    {
      "cell_type": "markdown",
      "metadata": {
        "id": "iZaX4g0SJssM"
      },
      "source": [
        "15 est un nombre entier. En anglais, on dit que 15 est un `integer` ou encore `int` pour faire court. On peut vérifier le type d'une variable en utilisant la fonction `type` comme ceci :"
      ]
    },
    {
      "cell_type": "code",
      "execution_count": null,
      "metadata": {
        "id": "RXnKgYKQJssM",
        "outputId": "ca8c9940-ec56-4b0e-c81e-bce603a7bbb7"
      },
      "outputs": [
        {
          "data": {
            "text/plain": [
              "int"
            ]
          },
          "execution_count": 34,
          "metadata": {},
          "output_type": "execute_result"
        }
      ],
      "source": [
        "type(age)"
      ]
    },
    {
      "cell_type": "markdown",
      "metadata": {
        "id": "iJtgqmvtJssM"
      },
      "source": [
        "## Les nombres à virgules"
      ]
    },
    {
      "cell_type": "code",
      "execution_count": null,
      "metadata": {
        "id": "2kclaWgnJssM"
      },
      "outputs": [],
      "source": [
        "taille = 1.83"
      ]
    },
    {
      "cell_type": "markdown",
      "metadata": {
        "id": "WxzDb3RaJssN"
      },
      "source": [
        "1.83 est un nombre à virgule. Il faut noter ici que la virgule est représentée par un point. C'est la convention en anglais. `1,83` n'est donc pas un nombre à virgule si vous l'ecrivez comme ca. En anglais, on appelle un nombre à virgule, `float`"
      ]
    },
    {
      "cell_type": "code",
      "execution_count": null,
      "metadata": {
        "id": "Zez5KAsqJssN",
        "outputId": "c6b7b61d-ff50-4e21-8f6b-95305ef3de16"
      },
      "outputs": [
        {
          "data": {
            "text/plain": [
              "float"
            ]
          },
          "execution_count": 36,
          "metadata": {},
          "output_type": "execute_result"
        }
      ],
      "source": [
        "type(taille)"
      ]
    },
    {
      "cell_type": "markdown",
      "metadata": {
        "id": "ef6n_0MYJssN"
      },
      "source": [
        "## Les chaînes de caractères"
      ]
    },
    {
      "cell_type": "markdown",
      "metadata": {
        "id": "Mwgaq7qWJssN"
      },
      "source": [
        "On a vu les nombres. Place aux chaines de caractères. Un mot est une chaine de caractères. Une lettre est une chaine de caractères avec un seul élément. Pour dire à Python qu'une variable est une chaine de caractère ou encore `string`, on la met en des guillemets comme ceci `\"blabla\"` ou `'blabla'`."
      ]
    },
    {
      "cell_type": "code",
      "execution_count": null,
      "metadata": {
        "id": "v4ZtQxd8JssO"
      },
      "outputs": [],
      "source": [
        "nom = \"Kevin\""
      ]
    },
    {
      "cell_type": "code",
      "execution_count": null,
      "metadata": {
        "id": "tAU8syLHJssO",
        "outputId": "1b980969-f80a-4dc7-d2f0-0701cc059246"
      },
      "outputs": [
        {
          "data": {
            "text/plain": [
              "str"
            ]
          },
          "execution_count": 38,
          "metadata": {},
          "output_type": "execute_result"
        }
      ],
      "source": [
        "type(nom)"
      ]
    },
    {
      "cell_type": "markdown",
      "metadata": {
        "id": "DSxdb7fnJssO"
      },
      "source": [
        "Que se passe-t-il si je mets un nombre entre des guillemets. Essayons et vérifions le type."
      ]
    },
    {
      "cell_type": "code",
      "execution_count": null,
      "metadata": {
        "id": "UEVhblqJJssO"
      },
      "outputs": [],
      "source": [
        "nombre = \"15\""
      ]
    },
    {
      "cell_type": "code",
      "execution_count": null,
      "metadata": {
        "id": "jLo2k1mSJssP",
        "outputId": "575c9ee0-725c-4c08-f6ea-2804dcb683cc"
      },
      "outputs": [
        {
          "data": {
            "text/plain": [
              "str"
            ]
          },
          "execution_count": 40,
          "metadata": {},
          "output_type": "execute_result"
        }
      ],
      "source": [
        "type(nombre)"
      ]
    },
    {
      "cell_type": "markdown",
      "metadata": {
        "id": "33gSgXyRJssP"
      },
      "source": [
        "nombre est apparemment un `str (string)`, ce qui veut dire que toute chose qu'on mettra entre des guillemets est une chaine de caractères"
      ]
    },
    {
      "cell_type": "markdown",
      "metadata": {
        "id": "b9fi6_cVJssP"
      },
      "source": [
        "## Changement de Type"
      ]
    },
    {
      "cell_type": "markdown",
      "metadata": {
        "id": "ci6nWFfTzMS_"
      },
      "source": [
        "Il est possible de modifier le type d'une variable après l'avoir créer."
      ]
    },
    {
      "cell_type": "code",
      "execution_count": null,
      "metadata": {
        "id": "w2JiF7g4JssP"
      },
      "outputs": [],
      "source": [
        "numero = \"15\""
      ]
    },
    {
      "cell_type": "code",
      "execution_count": null,
      "metadata": {
        "id": "TwiJsIRVJssP",
        "outputId": "f3c00543-30b3-4e56-d048-28f01d80a946"
      },
      "outputs": [
        {
          "data": {
            "text/plain": [
              "str"
            ]
          },
          "execution_count": 42,
          "metadata": {},
          "output_type": "execute_result"
        }
      ],
      "source": [
        "type(numero)"
      ]
    },
    {
      "cell_type": "code",
      "execution_count": null,
      "metadata": {
        "id": "4UDhltxtJssQ"
      },
      "outputs": [],
      "source": [
        "numero_int =  int(numero)"
      ]
    },
    {
      "cell_type": "code",
      "execution_count": null,
      "metadata": {
        "id": "r7V1HXp9JssQ",
        "outputId": "2853fa73-dd0e-41d2-ebd7-f519223a9ac7"
      },
      "outputs": [
        {
          "data": {
            "text/plain": [
              "int"
            ]
          },
          "execution_count": 44,
          "metadata": {},
          "output_type": "execute_result"
        }
      ],
      "source": [
        "type(numero_int)"
      ]
    },
    {
      "cell_type": "markdown",
      "metadata": {
        "id": "bUk8AIl2zMTE"
      },
      "source": [
        "Mais attention, il faut que la variable soit convertible."
      ]
    },
    {
      "cell_type": "code",
      "execution_count": null,
      "metadata": {
        "id": "9PhsdvEOJssQ"
      },
      "outputs": [],
      "source": [
        "numero = \"1589kil\""
      ]
    },
    {
      "cell_type": "code",
      "execution_count": null,
      "metadata": {
        "id": "fkJv_6HuJssQ",
        "outputId": "34804155-dc07-4bf8-cc51-230f49217be8"
      },
      "outputs": [
        {
          "ename": "ValueError",
          "evalue": "invalid literal for int() with base 10: '1589kil'",
          "output_type": "error",
          "traceback": [
            "\u001b[0;31m---------------------------------------------------------------------------\u001b[0m",
            "\u001b[0;31mValueError\u001b[0m                                Traceback (most recent call last)",
            "\u001b[0;32m<ipython-input-46-e782938469f3>\u001b[0m in \u001b[0;36m<module>\u001b[0;34m\u001b[0m\n\u001b[0;32m----> 1\u001b[0;31m \u001b[0mint\u001b[0m\u001b[0;34m(\u001b[0m\u001b[0mnumero\u001b[0m\u001b[0;34m)\u001b[0m\u001b[0;34m\u001b[0m\u001b[0;34m\u001b[0m\u001b[0m\n\u001b[0m",
            "\u001b[0;31mValueError\u001b[0m: invalid literal for int() with base 10: '1589kil'"
          ]
        }
      ],
      "source": [
        "int(numero)"
      ]
    },
    {
      "cell_type": "code",
      "execution_count": null,
      "metadata": {
        "id": "uUfN4KmPJssR"
      },
      "outputs": [],
      "source": [
        "age = 15"
      ]
    },
    {
      "cell_type": "code",
      "execution_count": null,
      "metadata": {
        "id": "TigCFxs8JssR",
        "outputId": "72c0ea48-cd41-4c2b-97be-31ff4b17f89d"
      },
      "outputs": [
        {
          "data": {
            "text/plain": [
              "'15'"
            ]
          },
          "execution_count": 48,
          "metadata": {},
          "output_type": "execute_result"
        }
      ],
      "source": [
        "str(age)"
      ]
    },
    {
      "cell_type": "code",
      "execution_count": null,
      "metadata": {
        "id": "2pANcwI2JssR"
      },
      "outputs": [],
      "source": [
        "poids = \"18.69\""
      ]
    },
    {
      "cell_type": "code",
      "execution_count": null,
      "metadata": {
        "id": "Utn7Qm8UJssR",
        "outputId": "b9fb6d13-9d6f-4f05-b89a-752735a67729"
      },
      "outputs": [
        {
          "data": {
            "text/plain": [
              "18.69"
            ]
          },
          "execution_count": 50,
          "metadata": {},
          "output_type": "execute_result"
        }
      ],
      "source": [
        "float(poids)"
      ]
    },
    {
      "cell_type": "code",
      "execution_count": null,
      "metadata": {
        "id": "2pxccs7TJssR"
      },
      "outputs": [],
      "source": [
        "poids = float(poids)"
      ]
    },
    {
      "cell_type": "code",
      "execution_count": null,
      "metadata": {
        "id": "0TPIDCJzJssS",
        "outputId": "1444547f-75d5-48e9-f8cd-bc69fb3a0f94"
      },
      "outputs": [
        {
          "data": {
            "text/plain": [
              "18.69"
            ]
          },
          "execution_count": 52,
          "metadata": {},
          "output_type": "execute_result"
        }
      ],
      "source": [
        "poids"
      ]
    },
    {
      "cell_type": "markdown",
      "metadata": {
        "id": "MGSBKcAGJssS"
      },
      "source": [
        "En resumé, on peut modifier les types int et float en str. Mais pour convertir un str en int ou float, il faut que le str ait un nombre entre les guillemets. En convertissant un float en int, on perd la partie après la virgule, et en converstissant un int en float, on lui ajoute `.0` à la fin."
      ]
    },
    {
      "cell_type": "markdown",
      "metadata": {
        "id": "-1TC_73UJssS"
      },
      "source": [
        "## Les listes"
      ]
    },
    {
      "cell_type": "markdown",
      "metadata": {
        "id": "I2B4_FpCzMTG"
      },
      "source": [
        "Les 3 types que nous avons vu sont des types primitifs. Les autres types que nous verrons seront des `collections` de ces types primitifs."
      ]
    },
    {
      "cell_type": "markdown",
      "metadata": {
        "id": "EEVU5N0PzMTG"
      },
      "source": [
        "Le premier type est le type list. Une liste est simplement une collection ordonnée d'éléments. Comment créer une liste en Python ?"
      ]
    },
    {
      "cell_type": "code",
      "execution_count": null,
      "metadata": {
        "id": "KNCsTDs7JssS"
      },
      "outputs": [],
      "source": [
        "notes = [18, 15, 13, 20]"
      ]
    },
    {
      "cell_type": "markdown",
      "metadata": {
        "id": "WUxHjfc5zMTH"
      },
      "source": [
        "Une liste ne contient pas que des nombres.On peut stocker n'importe quel type de données dans une liste. La liste suivante contient même une liste:"
      ]
    },
    {
      "cell_type": "code",
      "execution_count": null,
      "metadata": {
        "id": "YjG5IGO_JssT"
      },
      "outputs": [],
      "source": [
        "blabla = [\"Kevin\", 15, 25.25, [5], \"1\"]"
      ]
    },
    {
      "cell_type": "markdown",
      "metadata": {
        "id": "RYrl2cVKzMTH"
      },
      "source": [
        "On a dit qu'une liste était une collection ordonnée d'éléments. C'est à dire que chaque élément de la liste a une position. On peut donc référencer un élément ou l'extraire avec sa position. **En Python, les positions commencent à partir de 0, on parle de l'index d'un élément dans une liste**. Essayons d'extraire le premier élémént de la liste `notes`, c'est l'élément `18` dont l'index est 0."
      ]
    },
    {
      "cell_type": "code",
      "execution_count": null,
      "metadata": {
        "id": "7RgCvnFEJssT",
        "outputId": "d0d583d0-b41d-4806-f3b9-a050897d5c58"
      },
      "outputs": [
        {
          "data": {
            "text/plain": [
              "18"
            ]
          },
          "execution_count": 55,
          "metadata": {},
          "output_type": "execute_result"
        }
      ],
      "source": [
        "notes[0]"
      ]
    },
    {
      "cell_type": "markdown",
      "metadata": {
        "id": "1ryruBPVzMTH"
      },
      "source": [
        "Troisième élément de la liste: index 2 ?"
      ]
    },
    {
      "cell_type": "code",
      "execution_count": null,
      "metadata": {
        "id": "3tCF0ODUJssT",
        "outputId": "df4a7465-70c6-436d-a376-93429750a9b4"
      },
      "outputs": [
        {
          "data": {
            "text/plain": [
              "13"
            ]
          },
          "execution_count": 58,
          "metadata": {},
          "output_type": "execute_result"
        }
      ],
      "source": [
        "notes[2]"
      ]
    },
    {
      "cell_type": "markdown",
      "metadata": {
        "id": "rm4y2buDzMTH"
      },
      "source": [
        "Pour donc extraire un élément d'une liste, on fait `nom_de_la_variable`[index].\n",
        "\n",
        "L'index peut aussi être négatif. Dans ce genre de cas, on compte les éléments à partir du dernier élément de la liste. Notre liste `notes` se termine par 20. Son index est 3, mais aussi -1"
      ]
    },
    {
      "cell_type": "code",
      "execution_count": null,
      "metadata": {
        "id": "altA6JxNzMTI",
        "outputId": "f98b9a45-1842-4a14-e0a1-37da44a78bbc"
      },
      "outputs": [
        {
          "data": {
            "text/plain": [
              "20"
            ]
          },
          "execution_count": 59,
          "metadata": {},
          "output_type": "execute_result"
        }
      ],
      "source": [
        "notes[-1]"
      ]
    },
    {
      "cell_type": "code",
      "execution_count": null,
      "metadata": {
        "id": "ay242PPuJssT",
        "outputId": "0f81a9c9-8bd0-41e5-fcbf-5401e67542f8"
      },
      "outputs": [
        {
          "data": {
            "text/plain": [
              "13"
            ]
          },
          "execution_count": 60,
          "metadata": {},
          "output_type": "execute_result"
        }
      ],
      "source": [
        "notes[-2]"
      ]
    },
    {
      "cell_type": "markdown",
      "metadata": {
        "id": "o_6Msc1bzMTI"
      },
      "source": [
        "Je peux attirer ton attention sur la liste blabla, qui contient à l'index 3 une liste qui contient un seul élément. Essayons de l'afficher:"
      ]
    },
    {
      "cell_type": "code",
      "execution_count": null,
      "metadata": {
        "id": "9NSMJz6qJssU",
        "outputId": "b87cd5af-283e-40ab-f63c-3f993e8486e1"
      },
      "outputs": [
        {
          "data": {
            "text/plain": [
              "[5]"
            ]
          },
          "execution_count": 61,
          "metadata": {},
          "output_type": "execute_result"
        }
      ],
      "source": [
        "blabla[3]"
      ]
    },
    {
      "cell_type": "markdown",
      "metadata": {
        "id": "seKLuWClzMTJ"
      },
      "source": [
        "Vérifions son type :"
      ]
    },
    {
      "cell_type": "code",
      "execution_count": null,
      "metadata": {
        "id": "6rvk9eJZJssU",
        "outputId": "421a8f52-66ca-42bf-fcb4-36374356113d"
      },
      "outputs": [
        {
          "data": {
            "text/plain": [
              "list"
            ]
          },
          "execution_count": 62,
          "metadata": {},
          "output_type": "execute_result"
        }
      ],
      "source": [
        "type(blabla[3])"
      ]
    },
    {
      "cell_type": "markdown",
      "metadata": {
        "id": "TNF75G9rzMTK"
      },
      "source": [
        "Il est possible de modifier les éléments d'une liste. Dans notre liste `notes`, l'étudiant qui a eu 13 a reçu un bonus de 2 points. S nouvelle note est 15. Faisons la modification."
      ]
    },
    {
      "cell_type": "code",
      "execution_count": null,
      "metadata": {
        "id": "JR-qMiLMJssU"
      },
      "outputs": [],
      "source": [
        "notes = [18, 15, 13, 20]"
      ]
    },
    {
      "cell_type": "code",
      "execution_count": null,
      "metadata": {
        "id": "quFMfFiKzMTK",
        "outputId": "9b1810f0-c349-4e74-bfc9-d9dea19fd6a5"
      },
      "outputs": [
        {
          "data": {
            "text/plain": [
              "13"
            ]
          },
          "execution_count": 64,
          "metadata": {},
          "output_type": "execute_result"
        }
      ],
      "source": [
        "notes[-2]"
      ]
    },
    {
      "cell_type": "code",
      "execution_count": null,
      "metadata": {
        "id": "hx2HpDHzJssU"
      },
      "outputs": [],
      "source": [
        "notes[-2] = 15"
      ]
    },
    {
      "cell_type": "code",
      "execution_count": null,
      "metadata": {
        "id": "zi0vaLWZJssV",
        "outputId": "bcb35019-908d-44bf-e5f6-85f2e3f97205"
      },
      "outputs": [
        {
          "data": {
            "text/plain": [
              "[18, 15, 15, 20]"
            ]
          },
          "execution_count": 66,
          "metadata": {},
          "output_type": "execute_result"
        }
      ],
      "source": [
        "notes"
      ]
    },
    {
      "cell_type": "markdown",
      "metadata": {
        "id": "uBTe9JUZzMTM"
      },
      "source": [
        "Pour donc modifier un élément dans une liste, il faut extraire et faire `= nouvelle valeur ou élément`."
      ]
    },
    {
      "cell_type": "markdown",
      "metadata": {
        "id": "7zxHobarzMTM"
      },
      "source": [
        "Il est possible d'extraire une plage d'élément dans une liste. Par exemple, on se demande quelles sont 2 premiers éléments dans notre liste, c'est à dire les éléments dont les indexs sont 0 et 1. Il s'agit de 18 et 15. Voyons comment faire:"
      ]
    },
    {
      "cell_type": "code",
      "execution_count": null,
      "metadata": {
        "id": "4bo_JVdPJssV",
        "outputId": "b102a853-f935-4fda-c62c-a967bf938574"
      },
      "outputs": [
        {
          "data": {
            "text/plain": [
              "[18, 15]"
            ]
          },
          "execution_count": 68,
          "metadata": {},
          "output_type": "execute_result"
        }
      ],
      "source": [
        "notes[0:2]"
      ]
    },
    {
      "cell_type": "markdown",
      "metadata": {
        "id": "hGIESnn5zMTM"
      },
      "source": [
        "Oh, il s'agit là d'une nouvelle notation. Entre les crochets, on a `0:2`. On dirait qu'on a fait `index du premier element : index du dernier element + 1`. Verifions si c'est vrai en extrayant les 3 derniers éléments, c'est à dire les élements 15, 15 et 20. L'index du premier élément est 1 et le dernier est 3, on fera donc `1:3+1`. Essayons:"
      ]
    },
    {
      "cell_type": "code",
      "execution_count": null,
      "metadata": {
        "id": "sECGVc9RzMTN",
        "outputId": "7799e96c-6357-46dc-d2ae-e14d420e0e40"
      },
      "outputs": [
        {
          "data": {
            "text/plain": [
              "[15, 15, 20]"
            ]
          },
          "execution_count": 69,
          "metadata": {},
          "output_type": "execute_result"
        }
      ],
      "source": [
        "notes[1:4]"
      ]
    },
    {
      "cell_type": "markdown",
      "metadata": {
        "id": "mF4u_2JqzMTN"
      },
      "source": [
        "On dirait que ca marche. C'ext excellent. Est-ce que c'est possible de faire la même extraction avec les indexs négatifs. Essayons d'extraire les deux 15 au milieu de la liste. L'index du premier 15 est -3 et celui du second 15 est -2, on fera donc `-3: -2+1`. Essayons:"
      ]
    },
    {
      "cell_type": "code",
      "execution_count": null,
      "metadata": {
        "id": "-CTa07SzzMTO",
        "outputId": "0287e921-8391-4e2c-9ea9-822edebc0f7f"
      },
      "outputs": [
        {
          "data": {
            "text/plain": [
              "[15, 15]"
            ]
          },
          "execution_count": 70,
          "metadata": {},
          "output_type": "execute_result"
        }
      ],
      "source": [
        "notes[-3: -1]"
      ]
    },
    {
      "cell_type": "markdown",
      "metadata": {
        "id": "vfMUFscyzMTO"
      },
      "source": [
        "> Question : Que se passe-t-il quand j'omet, l'index avant le : et quand j'omet celui après le : .\n",
        "En gros, que me donnera `notes[ : 2]` et `notes[-3 : ]`"
      ]
    },
    {
      "cell_type": "markdown",
      "metadata": {
        "id": "Vx3v1foVzMTP"
      },
      "source": [
        "Pour la suite de notre découverte des listes, nous allons utiliser une liste qui contient différents types d'éléments."
      ]
    },
    {
      "cell_type": "code",
      "execution_count": null,
      "metadata": {
        "id": "7JzOyURSJssV"
      },
      "outputs": [],
      "source": [
        "liste_aleatoire = [ 14, 58, 45, -9, \"ballon\", \"kevin\", 12]"
      ]
    },
    {
      "cell_type": "markdown",
      "metadata": {
        "id": "RIUAzzP-zMTP"
      },
      "source": [
        "Quelle est la taille de cette liste ?"
      ]
    },
    {
      "cell_type": "code",
      "execution_count": null,
      "metadata": {
        "id": "k9uXDYFmzMTP",
        "outputId": "2142de5a-f75f-477a-c567-0579b0fabc52"
      },
      "outputs": [
        {
          "data": {
            "text/plain": [
              "7"
            ]
          },
          "execution_count": 72,
          "metadata": {},
          "output_type": "execute_result"
        }
      ],
      "source": [
        "len(liste_aleatoire)"
      ]
    },
    {
      "cell_type": "markdown",
      "metadata": {
        "id": "nGSOt9MzzMTP"
      },
      "source": [
        "On a 7 éléments dans notre liste, donc les indexs vont de 0 à 6. `len()` est une fonction utilisé pour connaitre la taille d'une collection, nous verra qu'elle est aussi utilisé pour les prochaines collections."
      ]
    },
    {
      "cell_type": "markdown",
      "metadata": {
        "id": "50Jo6ysszMTQ"
      },
      "source": [
        "Comment ajouter le mot `python` à notre liste. Cet élément aura l'index 7. Peut-on faire\n",
        "\n",
        "`liste_aleatoire[7] = \"python\"` ? Essayons voir :"
      ]
    },
    {
      "cell_type": "code",
      "execution_count": null,
      "metadata": {
        "id": "pPqJzX9szMTQ",
        "outputId": "b73a4ff4-bd8e-4a6d-be63-36c33b61e556"
      },
      "outputs": [
        {
          "ename": "IndexError",
          "evalue": "list assignment index out of range",
          "output_type": "error",
          "traceback": [
            "\u001b[0;31m---------------------------------------------------------------------------\u001b[0m",
            "\u001b[0;31mIndexError\u001b[0m                                Traceback (most recent call last)",
            "\u001b[0;32m<ipython-input-73-97f05cbe6698>\u001b[0m in \u001b[0;36m<module>\u001b[0;34m\u001b[0m\n\u001b[0;32m----> 1\u001b[0;31m \u001b[0mliste_aleatoire\u001b[0m\u001b[0;34m[\u001b[0m\u001b[0;36m7\u001b[0m\u001b[0;34m]\u001b[0m \u001b[0;34m=\u001b[0m \u001b[0;34m\"python\"\u001b[0m\u001b[0;34m\u001b[0m\u001b[0;34m\u001b[0m\u001b[0m\n\u001b[0m",
            "\u001b[0;31mIndexError\u001b[0m: list assignment index out of range"
          ]
        }
      ],
      "source": [
        "liste_aleatoire[7] = \"python\""
      ]
    },
    {
      "cell_type": "markdown",
      "metadata": {
        "id": "W-p45bWOzMTQ"
      },
      "source": [
        "On obtient une erreur. Quand je traduis cette erreur en Français, ca donne :\n",
        "> IndexError: index d'affectation de liste hors limites\n",
        "\n",
        "On dirait que Python a essayé de faire une modification et l'index 7 est hors des limites 0-6 de notre liste.\n",
        "Comment faire alors ? Voici une opportunité de chercher sur Google `Comment ajouter un élément à une liste Python ?`. Apprendre à trouver les solutions à ces problèmes grâce à Google est une qualité important de tout programmeur."
      ]
    },
    {
      "cell_type": "markdown",
      "metadata": {
        "id": "BcfHzL3GzMTQ"
      },
      "source": [
        "Voici la solution :"
      ]
    },
    {
      "cell_type": "code",
      "execution_count": null,
      "metadata": {
        "id": "IKblz7TUzMTQ"
      },
      "outputs": [],
      "source": [
        "liste_aleatoire.append('python')"
      ]
    },
    {
      "cell_type": "code",
      "execution_count": null,
      "metadata": {
        "id": "JP8sm2zvJssY",
        "outputId": "dc4d3bd1-a5b4-45dd-c462-5236c2710736"
      },
      "outputs": [
        {
          "data": {
            "text/plain": [
              "[14, 58, 45, -9, 'ballon', 'kevin', 12, 'python']"
            ]
          },
          "execution_count": 75,
          "metadata": {},
          "output_type": "execute_result"
        }
      ],
      "source": [
        "liste_aleatoire"
      ]
    },
    {
      "cell_type": "markdown",
      "metadata": {
        "id": "Gofy4vOjzMTR"
      },
      "source": [
        "C'est bien tout ça, mais et si je souhaite ajouter le mot `data` entre 45 et -9 au lieu de l'ajouter à la fin de la liste. On parle alors d'insertion dans une liste. Tu peux également chercher sur Google rapidement avant de continuer."
      ]
    },
    {
      "cell_type": "markdown",
      "metadata": {
        "id": "sILq9ncOzMTR"
      },
      "source": [
        "L'index de 45 est 2. Si un mot est ajouté juste à côté de 45, il aura donc l'index 3. On peut utiliser la fonction `insert()` pour le faire."
      ]
    },
    {
      "cell_type": "code",
      "execution_count": null,
      "metadata": {
        "id": "X2vjo_uozMTR"
      },
      "outputs": [],
      "source": [
        "liste_aleatoire.insert(3, 'data')"
      ]
    },
    {
      "cell_type": "code",
      "execution_count": null,
      "metadata": {
        "id": "Xdiul0JBzMTR",
        "outputId": "9927ec4b-0925-4df9-a010-791866e4d4a9"
      },
      "outputs": [
        {
          "data": {
            "text/plain": [
              "[14, 58, 45, 'data', -9, 'ballon', 'kevin', 12, 'python']"
            ]
          },
          "execution_count": 77,
          "metadata": {},
          "output_type": "execute_result"
        }
      ],
      "source": [
        "liste_aleatoire"
      ]
    },
    {
      "cell_type": "markdown",
      "metadata": {
        "id": "5vm5zV71zMTS"
      },
      "source": [
        "Maintenant, on veut supprimer l'élément -9 pour n'avoir que des nombres positifs. Encore une opportunité de chercher sur Google `Comment supprimer un élément d'une liste Python`."
      ]
    },
    {
      "cell_type": "code",
      "execution_count": null,
      "metadata": {
        "id": "FCgViWFXzMTS"
      },
      "outputs": [],
      "source": [
        "liste_aleatoire.remove(-9)"
      ]
    },
    {
      "cell_type": "code",
      "execution_count": null,
      "metadata": {
        "id": "wiW0xbRXzMTS",
        "outputId": "0370e0c1-a858-4d91-ede0-7f676d003979"
      },
      "outputs": [
        {
          "data": {
            "text/plain": [
              "[14, 58, 45, 'data', 'ballon', 'kevin', 12, 'python']"
            ]
          },
          "execution_count": 80,
          "metadata": {},
          "output_type": "execute_result"
        }
      ],
      "source": [
        "liste_aleatoire"
      ]
    },
    {
      "cell_type": "markdown",
      "metadata": {
        "id": "2ToQQInvzMTc"
      },
      "source": [
        "L'élément -9 a été supprimé. C'est parfait. On utilise donc la fonction remove pour supprimer l'élément.\n",
        "> Question : Et si on avait -9 plusieurs fois dans la liste, la fonction remove va-t-elle tous les supprimer ?"
      ]
    },
    {
      "cell_type": "markdown",
      "metadata": {
        "id": "abTOms1JzMTd"
      },
      "source": [
        "Et si on ne connait pas l'élément qu'on veut supprimer mais son index. Comment le supprimer ?\n",
        "> Toi: C'est simple, on affiche l'élement avec `liste_aleatoire[index]` et on fait `remove()` avec l'élément qui s'est affiché\n",
        "\n",
        "> Moi: Bravo, c'est une très bonne technique. Mais je te propose un raccourci. Tu peux supprimer l'élément avec `del liste_aleatoire[index]`.Le mot clé `del` permet de supprimer un élément sans le connaitre.\n",
        "\n",
        "> Toi: Hummmmm, très interessant ça. J'ai une question: Comment puis-je récuperer l'index d'un élément que je connais. Imagine que ma liste contient 156 éléments et que je ne peux pas le voir. Comment je peux recuperer l'index de l'élément - 9\n",
        "\n",
        "> Moi: Google est ton ami. Voilà encore une occassion de chercher. Si tu trouves la solution, informe-moi sur Discord à https://discord.gg/sHE5exZ  ."
      ]
    },
    {
      "cell_type": "code",
      "execution_count": null,
      "metadata": {
        "id": "tWNEWdUCJssa"
      },
      "outputs": [],
      "source": [
        "del liste_aleatoire[1]"
      ]
    },
    {
      "cell_type": "code",
      "execution_count": null,
      "metadata": {
        "colab": {
          "base_uri": "https://localhost:8080/"
        },
        "id": "XHFrgeMXPIjV",
        "outputId": "ad48eb66-13f0-4aab-ddaf-3553e91b3ac9"
      },
      "outputs": [
        {
          "data": {
            "text/plain": [
              "[14, 45, 'data', 'ballon', 'kevin', 12, 'python']"
            ]
          },
          "execution_count": 82,
          "metadata": {},
          "output_type": "execute_result"
        }
      ],
      "source": [
        "liste_aleatoire"
      ]
    },
    {
      "cell_type": "markdown",
      "metadata": {
        "id": "2WnEQu-UQhM_"
      },
      "source": [
        "Nous venons de voir plusieurs concepts concernant les listes. Prend le temps de créer une liste, y ajouter des éléments, extraire une plage d'élément, supprimer un élément ou une plage d'élément. Cela te permettra de consolider ce que tu as appris pour la suite. Tu peux également Faire les exercices de Python qui se trouvent [ici](https://www.w3schools.com/python/exercise.asp?filename=exercise_lists1).\n",
        "\n",
        "Nous n'avons pas vu toutes les fonctions de Python pour les listes. Tu peux en découvrir d'autres [ici](https://www.w3schools.com/python/python_lists_methods.asp)\n",
        "Voici quelques questions pour guider tes recherches :\n",
        "* Comment trier une liste de nombres du plus petit au plus grand, et inversement ?\n",
        "* Peut-on ordonner une liste qui contient des nombres et des chaines de caractères ?\n",
        "* Comment compter le nombre de fois qu'apparait un élément dans une liste ?"
      ]
    },
    {
      "cell_type": "code",
      "execution_count": null,
      "metadata": {
        "id": "LLlrnmDq1N1Z"
      },
      "outputs": [],
      "source": []
    },
    {
      "cell_type": "markdown",
      "metadata": {
        "id": "Bs5Uf4NEJssc"
      },
      "source": [
        "## Les tuples"
      ]
    },
    {
      "cell_type": "markdown",
      "metadata": {
        "id": "wi0QeBQXzMTe"
      },
      "source": [
        "Le second type de collections de données que nous allons voir est le type **tuple**. Les tuples sont commes les listes mais avec des parenthèses **( )** au lieu des crochets **[ ]**."
      ]
    },
    {
      "cell_type": "code",
      "execution_count": null,
      "metadata": {
        "id": "9Jl6f0UNQpC_"
      },
      "outputs": [],
      "source": [
        "un_tuple = (2, 5 , 9)"
      ]
    },
    {
      "cell_type": "code",
      "execution_count": null,
      "metadata": {
        "colab": {
          "base_uri": "https://localhost:8080/"
        },
        "id": "a3pfGOx_QotQ",
        "outputId": "e7a283f5-ae67-46f6-e00b-331da63d1204"
      },
      "outputs": [
        {
          "data": {
            "text/plain": [
              "tuple"
            ]
          },
          "execution_count": 84,
          "metadata": {},
          "output_type": "execute_result"
        }
      ],
      "source": [
        "type(un_tuple)"
      ]
    },
    {
      "cell_type": "markdown",
      "metadata": {
        "id": "-4IMQ_CqzMTf"
      },
      "source": [
        "Mais en quoi différe-t-il des listes? Essayons de voir si on peut faire les mêmes opérations qu'on a faite avec les listes."
      ]
    },
    {
      "cell_type": "markdown",
      "metadata": {
        "id": "vzT0uVnFzMTf"
      },
      "source": [
        "EXtraire un élément ?"
      ]
    },
    {
      "cell_type": "code",
      "execution_count": null,
      "metadata": {
        "colab": {
          "base_uri": "https://localhost:8080/"
        },
        "id": "MM-xxwmqQ6c4",
        "outputId": "3f33164f-168e-4fd9-d65e-6437a8f525e4"
      },
      "outputs": [
        {
          "data": {
            "text/plain": [
              "9"
            ]
          },
          "execution_count": 85,
          "metadata": {},
          "output_type": "execute_result"
        }
      ],
      "source": [
        "un_tuple[2]"
      ]
    },
    {
      "cell_type": "markdown",
      "metadata": {
        "id": "1W2pq9W7zMTf"
      },
      "source": [
        "Peut-on remplacer les crochets par les parenthèses pour l'extraction ?"
      ]
    },
    {
      "cell_type": "code",
      "execution_count": null,
      "metadata": {
        "colab": {
          "base_uri": "https://localhost:8080/",
          "height": 162
        },
        "id": "jUzXlbYLQ6Mi",
        "outputId": "1d4f2472-8bab-4169-fb67-644636b69614"
      },
      "outputs": [
        {
          "ename": "TypeError",
          "evalue": "'tuple' object is not callable",
          "output_type": "error",
          "traceback": [
            "\u001b[0;31m---------------------------------------------------------------------------\u001b[0m",
            "\u001b[0;31mTypeError\u001b[0m                                 Traceback (most recent call last)",
            "\u001b[0;32m<ipython-input-87-b89e85d2b07a>\u001b[0m in \u001b[0;36m<module>\u001b[0;34m\u001b[0m\n\u001b[0;32m----> 1\u001b[0;31m \u001b[0mun_tuple\u001b[0m\u001b[0;34m(\u001b[0m\u001b[0;36m2\u001b[0m\u001b[0;34m)\u001b[0m\u001b[0;34m\u001b[0m\u001b[0;34m\u001b[0m\u001b[0m\n\u001b[0m",
            "\u001b[0;31mTypeError\u001b[0m: 'tuple' object is not callable"
          ]
        }
      ],
      "source": [
        "un_tuple(2)"
      ]
    },
    {
      "cell_type": "markdown",
      "metadata": {
        "id": "MjYE5aRXzMTg"
      },
      "source": [
        "Oh, les parenthèses comme ca, c'est pour les fonctions qu'on verra plus tard."
      ]
    },
    {
      "cell_type": "markdown",
      "metadata": {
        "id": "3GtVAv5GzMTg"
      },
      "source": [
        "Extraire une plage d'éléments dans un tuple:"
      ]
    },
    {
      "cell_type": "code",
      "execution_count": null,
      "metadata": {
        "colab": {
          "base_uri": "https://localhost:8080/"
        },
        "id": "nHPjUjuYQoTS",
        "outputId": "0cb03ae7-c173-42b3-c737-d851812e538a"
      },
      "outputs": [
        {
          "data": {
            "text/plain": [
              "(2, 5)"
            ]
          },
          "execution_count": 88,
          "metadata": {},
          "output_type": "execute_result"
        }
      ],
      "source": [
        "un_tuple[0:2]"
      ]
    },
    {
      "cell_type": "markdown",
      "metadata": {
        "id": "wTuNI-JazMTg"
      },
      "source": [
        "Modifier les éléments d'un tuple :"
      ]
    },
    {
      "cell_type": "code",
      "execution_count": null,
      "metadata": {
        "colab": {
          "base_uri": "https://localhost:8080/",
          "height": 162
        },
        "id": "WzCoe8-SJssd",
        "outputId": "1b5558a5-469f-4b2c-c89f-74c56baf4b4c"
      },
      "outputs": [
        {
          "ename": "TypeError",
          "evalue": "'tuple' object does not support item assignment",
          "output_type": "error",
          "traceback": [
            "\u001b[0;31m---------------------------------------------------------------------------\u001b[0m",
            "\u001b[0;31mTypeError\u001b[0m                                 Traceback (most recent call last)",
            "\u001b[0;32m<ipython-input-89-50f5cb4db3c3>\u001b[0m in \u001b[0;36m<module>\u001b[0;34m\u001b[0m\n\u001b[0;32m----> 1\u001b[0;31m \u001b[0mun_tuple\u001b[0m\u001b[0;34m[\u001b[0m\u001b[0;36m1\u001b[0m\u001b[0;34m]\u001b[0m \u001b[0;34m=\u001b[0m \u001b[0;36m15000\u001b[0m\u001b[0;34m\u001b[0m\u001b[0;34m\u001b[0m\u001b[0m\n\u001b[0m",
            "\u001b[0;31mTypeError\u001b[0m: 'tuple' object does not support item assignment"
          ]
        }
      ],
      "source": [
        "un_tuple[1] = 15000"
      ]
    },
    {
      "cell_type": "markdown",
      "metadata": {
        "id": "H04-mDvWzMTh"
      },
      "source": [
        "Oh, apparemment, on ne peut pas modifier un tuple. Peut-on lui ajouter un élément ?"
      ]
    },
    {
      "cell_type": "code",
      "execution_count": null,
      "metadata": {
        "colab": {
          "base_uri": "https://localhost:8080/",
          "height": 162
        },
        "id": "4cDAOgUGRfl4",
        "outputId": "36723bea-9b74-4ae3-e0f9-b20541e611cc"
      },
      "outputs": [
        {
          "ename": "AttributeError",
          "evalue": "'tuple' object has no attribute 'append'",
          "output_type": "error",
          "traceback": [
            "\u001b[0;31m---------------------------------------------------------------------------\u001b[0m",
            "\u001b[0;31mAttributeError\u001b[0m                            Traceback (most recent call last)",
            "\u001b[0;32m<ipython-input-90-10f9f390e3fd>\u001b[0m in \u001b[0;36m<module>\u001b[0;34m\u001b[0m\n\u001b[0;32m----> 1\u001b[0;31m \u001b[0mun_tuple\u001b[0m\u001b[0;34m.\u001b[0m\u001b[0mappend\u001b[0m\u001b[0;34m(\u001b[0m\u001b[0;36m15000\u001b[0m\u001b[0;34m)\u001b[0m\u001b[0;34m\u001b[0m\u001b[0;34m\u001b[0m\u001b[0m\n\u001b[0m",
            "\u001b[0;31mAttributeError\u001b[0m: 'tuple' object has no attribute 'append'"
          ]
        }
      ],
      "source": [
        "un_tuple.append(15000)"
      ]
    },
    {
      "cell_type": "markdown",
      "metadata": {
        "id": "q0kEQ2KNzMTh"
      },
      "source": [
        "Apparemment, non plus. Peut-on supprimer un élément ?"
      ]
    },
    {
      "cell_type": "code",
      "execution_count": null,
      "metadata": {
        "colab": {
          "base_uri": "https://localhost:8080/",
          "height": 162
        },
        "id": "FFQNelO9RfSy",
        "outputId": "2f3f0f78-a90f-47a5-a0dd-d3e13b174740"
      },
      "outputs": [
        {
          "ename": "TypeError",
          "evalue": "'tuple' object doesn't support item deletion",
          "output_type": "error",
          "traceback": [
            "\u001b[0;31m---------------------------------------------------------------------------\u001b[0m",
            "\u001b[0;31mTypeError\u001b[0m                                 Traceback (most recent call last)",
            "\u001b[0;32m<ipython-input-91-a4858ed01ac1>\u001b[0m in \u001b[0;36m<module>\u001b[0;34m\u001b[0m\n\u001b[0;32m----> 1\u001b[0;31m \u001b[0;32mdel\u001b[0m \u001b[0mun_tuple\u001b[0m\u001b[0;34m[\u001b[0m\u001b[0;36m1\u001b[0m\u001b[0;34m]\u001b[0m\u001b[0;34m\u001b[0m\u001b[0;34m\u001b[0m\u001b[0m\n\u001b[0m",
            "\u001b[0;31mTypeError\u001b[0m: 'tuple' object doesn't support item deletion"
          ]
        }
      ],
      "source": [
        "del un_tuple[1]"
      ]
    },
    {
      "cell_type": "markdown",
      "metadata": {
        "id": "MrXYD1AOzMTi"
      },
      "source": [
        "Impossible. Donc on peut dire qu'un tuple est pas modifiable une fois qu'il a été crée. On dit qu'un tuple est immuable. Ce type de variable peut être utilisé pour sauvegarder des éléments qui ne changent pas, comme le nom des jours de la semaine, la température à laquelle, l'eau devient glace et autres"
      ]
    },
    {
      "cell_type": "code",
      "execution_count": null,
      "metadata": {
        "id": "FbCpFFlcJssd"
      },
      "outputs": [],
      "source": [
        "jours = ('lundi', 'mardi', 'mercredi', 'jeudi', 'vendredi', 'samedi', 'dimanche')"
      ]
    },
    {
      "cell_type": "markdown",
      "metadata": {
        "id": "d9GGmdz_Jssd"
      },
      "source": [
        "Ici se trouve 4 exercices pour toi sur les tuples : https://www.w3schools.com/python/exercise.asp?filename=exercise_tuples1.\n",
        "Il existe un second type de variable qui ressemble aux listes, qu'on appelle **sets**. Je t'encourage à le chercher et comprendre comment on l'utilise et à quoi ca sert. Voici un lien pour t'aider : https://www.w3schools.com/python/python_sets.asp"
      ]
    },
    {
      "cell_type": "markdown",
      "metadata": {
        "id": "l6MGJvGuJssd"
      },
      "source": [
        "## Les dictionnaires"
      ]
    },
    {
      "cell_type": "markdown",
      "metadata": {
        "id": "UCNA2CzEzMTi"
      },
      "source": [
        "Le dernier type de variable que nous allons voir est le type **dictionnaire**. Un dictionnaire est simplement une collection de clé-valeurs comme par exemple un annuaire qui est une collection de nom-numero de téléphone. Créeons justement un annuaire."
      ]
    },
    {
      "cell_type": "code",
      "execution_count": null,
      "metadata": {
        "id": "paH_4Z3SSHXi"
      },
      "outputs": [],
      "source": [
        "annuaire = {\"kevin\": \"06545885852\",\n",
        "            \"radji\": \"06466548454\"}"
      ]
    },
    {
      "cell_type": "markdown",
      "metadata": {
        "id": "7EBMi2UkzMTj"
      },
      "source": [
        "Un dictionnaire c'est donc le format **clé : valeur** séparé par une virgule et le tout est dans des accolades **{}**"
      ]
    },
    {
      "cell_type": "code",
      "execution_count": null,
      "metadata": {
        "colab": {
          "base_uri": "https://localhost:8080/"
        },
        "id": "8geQvkxRSGhB",
        "outputId": "9c044d9b-bc0b-43a1-d257-a49f103987e8"
      },
      "outputs": [
        {
          "data": {
            "text/plain": [
              "dict"
            ]
          },
          "execution_count": 94,
          "metadata": {},
          "output_type": "execute_result"
        }
      ],
      "source": [
        "type(annuaire)"
      ]
    },
    {
      "cell_type": "markdown",
      "metadata": {
        "id": "BEUmXmZAzMTk"
      },
      "source": [
        "Quel est le numéro de kevin ?"
      ]
    },
    {
      "cell_type": "code",
      "execution_count": null,
      "metadata": {
        "colab": {
          "base_uri": "https://localhost:8080/",
          "height": 35
        },
        "id": "coNPmdkqJssd",
        "outputId": "75fc4fac-526d-4d6f-80e1-806d15ada93d"
      },
      "outputs": [
        {
          "data": {
            "text/plain": [
              "'06545885852'"
            ]
          },
          "execution_count": 95,
          "metadata": {},
          "output_type": "execute_result"
        }
      ],
      "source": [
        "annuaire[\"kevin\"]"
      ]
    },
    {
      "cell_type": "markdown",
      "metadata": {
        "id": "_LIDWlwtzMTl"
      },
      "source": [
        "Cela ressemble à comment on a extrait les élements d'une liste. Mais cette fois-ci, au lieu de l'index, on met le clé entre les crochets."
      ]
    },
    {
      "cell_type": "markdown",
      "metadata": {
        "id": "3iZSHlTXzMTl"
      },
      "source": [
        "Dans notre exemple, la clé et la valeur sont des chaines de caractères. Peut-on avoir comme valeur une liste par exemple ?"
      ]
    },
    {
      "cell_type": "code",
      "execution_count": null,
      "metadata": {
        "id": "vptWtghUJssd"
      },
      "outputs": [],
      "source": [
        "annuaire = {\"kevin\": \"06545885852\",\n",
        "            \"radji\": \"06466548454\",\n",
        "            \"rock_ray\": [\"066545\", \"06454\"]}"
      ]
    },
    {
      "cell_type": "code",
      "execution_count": null,
      "metadata": {
        "id": "t1jIUUDNzMTl",
        "outputId": "1cc90d5a-1a14-4bf7-e087-9789b57e4c3e"
      },
      "outputs": [
        {
          "name": "stdout",
          "output_type": "stream",
          "text": [
            "{'kevin': '06545885852', 'radji': '06466548454', 'rock_ray': ['066545', '06454']}\n"
          ]
        }
      ],
      "source": [
        "print(annuaire)"
      ]
    },
    {
      "cell_type": "markdown",
      "metadata": {
        "id": "tzyVT2DwzMTm"
      },
      "source": [
        "C'est possible. Combinons nos compétences en listes et dictionnaires pour extraire le 1er numéro de rock_ray"
      ]
    },
    {
      "cell_type": "code",
      "execution_count": null,
      "metadata": {
        "colab": {
          "base_uri": "https://localhost:8080/"
        },
        "id": "Z_n9rfZjJsse",
        "outputId": "679892c8-b2de-46bf-8a25-aff8921c5dd9"
      },
      "outputs": [
        {
          "data": {
            "text/plain": [
              "['066545', '06454']"
            ]
          },
          "execution_count": 98,
          "metadata": {},
          "output_type": "execute_result"
        }
      ],
      "source": [
        "annuaire[\"rock_ray\"]"
      ]
    },
    {
      "cell_type": "code",
      "execution_count": null,
      "metadata": {
        "colab": {
          "base_uri": "https://localhost:8080/",
          "height": 35
        },
        "id": "KfHR9HDlTkNz",
        "outputId": "ae35ccfe-44c6-4783-de9d-14a5aa5a8bca"
      },
      "outputs": [
        {
          "data": {
            "text/plain": [
              "'066545'"
            ]
          },
          "execution_count": 99,
          "metadata": {},
          "output_type": "execute_result"
        }
      ],
      "source": [
        "annuaire[\"rock_ray\"][0]"
      ]
    },
    {
      "cell_type": "markdown",
      "metadata": {
        "id": "v1HL3WqRzMTo"
      },
      "source": [
        "Peut-on lui ajouter un 3ème numéro ?"
      ]
    },
    {
      "cell_type": "code",
      "execution_count": null,
      "metadata": {
        "id": "Z3Q77elfTpjq"
      },
      "outputs": [],
      "source": [
        "annuaire[\"rock_ray\"].append(\"06545451\")"
      ]
    },
    {
      "cell_type": "code",
      "execution_count": null,
      "metadata": {
        "colab": {
          "base_uri": "https://localhost:8080/"
        },
        "id": "aQA-NxoITp4V",
        "outputId": "c55a8b96-d8be-47d4-c086-e06551b8c05d"
      },
      "outputs": [
        {
          "data": {
            "text/plain": [
              "{'kevin': '06545885852',\n",
              " 'radji': '06466548454',\n",
              " 'rock_ray': ['066545', '06454', '06545451']}"
            ]
          },
          "execution_count": 101,
          "metadata": {},
          "output_type": "execute_result"
        }
      ],
      "source": [
        "annuaire"
      ]
    },
    {
      "cell_type": "markdown",
      "metadata": {
        "id": "M5g971cPT053"
      },
      "source": [
        "> Question : Peut-on créer une liste de dictionnaire ?,\n",
        "La clé peut-elle être un nombre (int ou float) ?\n",
        "La clé peut-elle être un dictionnaire ?"
      ]
    },
    {
      "cell_type": "markdown",
      "metadata": {
        "id": "mJLMwFGXzMTp"
      },
      "source": [
        "Comment modifier un dictionnaire ? Ici on veut modifier le numero de kevin."
      ]
    },
    {
      "cell_type": "code",
      "execution_count": null,
      "metadata": {
        "id": "j1oMutj-zMTp"
      },
      "outputs": [],
      "source": [
        "annuaire['kevin'] = \"0606060606\""
      ]
    },
    {
      "cell_type": "code",
      "execution_count": null,
      "metadata": {
        "id": "Nz8MnJ4_zMTp",
        "outputId": "cc25f01b-3b96-4856-ccaf-8af9b1edca6e"
      },
      "outputs": [
        {
          "data": {
            "text/plain": [
              "{'kevin': '0606060606',\n",
              " 'radji': '06466548454',\n",
              " 'rock_ray': ['066545', '06454', '06545451']}"
            ]
          },
          "execution_count": 111,
          "metadata": {},
          "output_type": "execute_result"
        }
      ],
      "source": [
        "annuaire"
      ]
    },
    {
      "cell_type": "markdown",
      "metadata": {
        "id": "6XkFRdw7zMTp"
      },
      "source": [
        "Et si on veut changer la clé ? C'est comme si on voulait changer l'index d'une liste: C'est impossible. IL faut supprimer l'élément et y ajouter la nouvelle clé-valeur. Alors comment supprimer une clé-valeur ?"
      ]
    },
    {
      "cell_type": "code",
      "execution_count": null,
      "metadata": {
        "id": "-LCgkLqbzMTp"
      },
      "outputs": [],
      "source": [
        "del annuaire['rock_ray']"
      ]
    },
    {
      "cell_type": "code",
      "execution_count": null,
      "metadata": {
        "id": "Z49Oa1NhzMTq",
        "outputId": "36371999-4dfb-44dd-ccc8-42c2977a7be7"
      },
      "outputs": [
        {
          "data": {
            "text/plain": [
              "{'kevin': '0606060606', 'radji': '06466548454'}"
            ]
          },
          "execution_count": 113,
          "metadata": {},
          "output_type": "execute_result"
        }
      ],
      "source": [
        "annuaire"
      ]
    },
    {
      "cell_type": "markdown",
      "metadata": {
        "id": "9ZMIEFrPzMTq"
      },
      "source": [
        "Ca fonctionne. Comment ajouter une nouvelle clé-valeur. Il suffit de faire :"
      ]
    },
    {
      "cell_type": "code",
      "execution_count": null,
      "metadata": {
        "id": "tu3vr_SxzMTq"
      },
      "outputs": [],
      "source": [
        "annuaire['sos'] = \"911\""
      ]
    },
    {
      "cell_type": "code",
      "execution_count": null,
      "metadata": {
        "id": "ByK55M7jzMTq",
        "outputId": "0a878b2a-df04-4076-f8d9-9cc0a246a3e4"
      },
      "outputs": [
        {
          "data": {
            "text/plain": [
              "{'kevin': '0606060606', 'radji': '06466548454', 'sos': '911'}"
            ]
          },
          "execution_count": 115,
          "metadata": {},
          "output_type": "execute_result"
        }
      ],
      "source": [
        "annuaire"
      ]
    },
    {
      "cell_type": "code",
      "execution_count": null,
      "metadata": {
        "id": "_lyym_-1zMTr"
      },
      "outputs": [],
      "source": []
    },
    {
      "cell_type": "code",
      "execution_count": null,
      "metadata": {
        "id": "2hEErCpATqDv"
      },
      "outputs": [],
      "source": [
        "un_dict = {2: \"deux\",\n",
        "           5:\"cinq\",\n",
        "           3:\"trois\"}"
      ]
    },
    {
      "cell_type": "markdown",
      "metadata": {
        "id": "i39XN9G7zMTr"
      },
      "source": [
        "Quelle est la taille de ce nouveau dictionnaire ? C'est à dire combien de clé-valeurs. On avait utilisé la fonction **len** pour les listes. Est-ce que ca marche pour les dictionnaires ?"
      ]
    },
    {
      "cell_type": "code",
      "execution_count": null,
      "metadata": {
        "colab": {
          "base_uri": "https://localhost:8080/"
        },
        "id": "YKA071a-WOOM",
        "outputId": "81d4f5b4-cb88-4d15-808c-752e807dc4b4"
      },
      "outputs": [
        {
          "data": {
            "text/plain": [
              "3"
            ]
          },
          "execution_count": 105,
          "metadata": {},
          "output_type": "execute_result"
        }
      ],
      "source": [
        "len(un_dict)"
      ]
    },
    {
      "cell_type": "markdown",
      "metadata": {
        "id": "Ovw6h3HizMTr"
      },
      "source": [
        "La réponse est Oui"
      ]
    },
    {
      "cell_type": "code",
      "execution_count": null,
      "metadata": {
        "colab": {
          "base_uri": "https://localhost:8080/",
          "height": 35
        },
        "id": "WJWpI4V6TqTI",
        "outputId": "c19b0427-2f06-45bb-89af-b6ce29159edc"
      },
      "outputs": [
        {
          "data": {
            "text/plain": [
              "'deux'"
            ]
          },
          "execution_count": 106,
          "metadata": {},
          "output_type": "execute_result"
        }
      ],
      "source": [
        "un_dict[2]"
      ]
    },
    {
      "cell_type": "code",
      "execution_count": null,
      "metadata": {
        "colab": {
          "base_uri": "https://localhost:8080/",
          "height": 162
        },
        "id": "PaZJTkC1UGlr",
        "outputId": "48774bbf-aceb-4c7e-fc2a-5116f7dafffb"
      },
      "outputs": [
        {
          "ename": "KeyError",
          "evalue": "1",
          "output_type": "error",
          "traceback": [
            "\u001b[0;31m---------------------------------------------------------------------------\u001b[0m",
            "\u001b[0;31mKeyError\u001b[0m                                  Traceback (most recent call last)",
            "\u001b[0;32m<ipython-input-107-d3ff6f2df384>\u001b[0m in \u001b[0;36m<module>\u001b[0;34m\u001b[0m\n\u001b[0;32m----> 1\u001b[0;31m \u001b[0mun_dict\u001b[0m\u001b[0;34m[\u001b[0m\u001b[0;36m1\u001b[0m\u001b[0;34m]\u001b[0m\u001b[0;34m\u001b[0m\u001b[0;34m\u001b[0m\u001b[0m\n\u001b[0m",
            "\u001b[0;31mKeyError\u001b[0m: 1"
          ]
        }
      ],
      "source": [
        "un_dict[1]"
      ]
    },
    {
      "cell_type": "code",
      "execution_count": null,
      "metadata": {
        "colab": {
          "base_uri": "https://localhost:8080/",
          "height": 35
        },
        "id": "Pkb0eTdeUGzt",
        "outputId": "190abea3-94e8-44ae-bd88-f943217e847c"
      },
      "outputs": [
        {
          "data": {
            "text/plain": [
              "'cinq'"
            ]
          },
          "execution_count": 109,
          "metadata": {},
          "output_type": "execute_result"
        }
      ],
      "source": [
        "un_dict[5]"
      ]
    },
    {
      "cell_type": "markdown",
      "metadata": {
        "id": "QxsF7xx6zMTt"
      },
      "source": [
        "Revenons à notre annuaire. Comment l'organiser par ordre alphabétique selon la clé. Je t'invite à chercher une fois de plus la réponse sur Google"
      ]
    },
    {
      "cell_type": "code",
      "execution_count": null,
      "metadata": {
        "id": "6upL3k4vzMTt",
        "outputId": "4061064c-aed7-451b-f0f7-f7a25a3fbd7b"
      },
      "outputs": [
        {
          "data": {
            "text/plain": [
              "{'kevin': '0606060606', 'radji': '06466548454', 'sos': '911', 'bob': '568978'}"
            ]
          },
          "execution_count": 117,
          "metadata": {},
          "output_type": "execute_result"
        }
      ],
      "source": [
        "annuaire['bob'] = \"568978\"\n",
        "annuaire"
      ]
    },
    {
      "cell_type": "code",
      "execution_count": null,
      "metadata": {
        "id": "MOubQ5jtzMTu",
        "outputId": "c1d7a983-6294-4a6f-971d-f7a4c85d35b0"
      },
      "outputs": [
        {
          "data": {
            "text/plain": [
              "[('bob', '568978'),\n",
              " ('kevin', '0606060606'),\n",
              " ('radji', '06466548454'),\n",
              " ('sos', '911')]"
            ]
          },
          "execution_count": 118,
          "metadata": {},
          "output_type": "execute_result"
        }
      ],
      "source": [
        "sorted(annuaire.items(), key=lambda t: t[0])"
      ]
    },
    {
      "cell_type": "markdown",
      "metadata": {
        "id": "7PeWw4MpzMTu"
      },
      "source": [
        "Tu n'es pas censé comprendre ce qu'on vient de faire. On a utilisé la fonction **lambda** qui est une fonction spéciale en Python. Ce qu'il faut retenir c'est la fonction items()"
      ]
    },
    {
      "cell_type": "code",
      "execution_count": null,
      "metadata": {
        "id": "oI0XLaZ4zMTu",
        "outputId": "1fac2291-488c-45e5-fc34-49fa6bfd4295"
      },
      "outputs": [
        {
          "data": {
            "text/plain": [
              "dict_items([('kevin', '0606060606'), ('radji', '06466548454'), ('sos', '911'), ('bob', '568978')])"
            ]
          },
          "execution_count": 119,
          "metadata": {},
          "output_type": "execute_result"
        }
      ],
      "source": [
        "annuaire.items()"
      ]
    },
    {
      "cell_type": "markdown",
      "metadata": {
        "id": "LRiVxDs5nyyK"
      },
      "source": [
        "Cette fonction nous retourne une liste de tuple, chaque tuple contenant la clé et la valeur."
      ]
    },
    {
      "cell_type": "markdown",
      "metadata": {
        "id": "q03m-Z1dzMTy"
      },
      "source": [
        "Voici 2 autres fonctions qui peuvent t'interesser"
      ]
    },
    {
      "cell_type": "code",
      "execution_count": null,
      "metadata": {
        "id": "BFLtZv9CzMTy",
        "outputId": "532c51ff-ebb3-4f20-944d-c35f5baf563b"
      },
      "outputs": [
        {
          "data": {
            "text/plain": [
              "dict_keys(['kevin', 'radji', 'sos', 'bob'])"
            ]
          },
          "execution_count": 121,
          "metadata": {},
          "output_type": "execute_result"
        }
      ],
      "source": [
        "annuaire.keys()"
      ]
    },
    {
      "cell_type": "code",
      "execution_count": null,
      "metadata": {
        "id": "iB2zeYCIzMTz",
        "outputId": "17684828-87d9-4168-cf39-ffcc049f9d48"
      },
      "outputs": [
        {
          "data": {
            "text/plain": [
              "dict_values(['0606060606', '06466548454', '911', '568978'])"
            ]
          },
          "execution_count": 122,
          "metadata": {},
          "output_type": "execute_result"
        }
      ],
      "source": [
        "annuaire.values()"
      ]
    },
    {
      "cell_type": "markdown",
      "metadata": {
        "id": "0Ls8X6s2zMTz"
      },
      "source": [
        "Nous venons donc finir de voir le type dictionnaire. C'est le moment une fois de plus de pauser et reprendre ce qu'on a fait. Créer un dictionnaire, modifie le, ajoute des élements et supprime également quelques uns.\n",
        "Tu peux aussi explorer d'autres fonctions de dictionnaires ici : https://www.w3schools.com/python/python_dictionaries_methods.asp et faire des exercices ici : https://www.w3schools.com/python/exercise.asp?filename=exercise_dictionaries1"
      ]
    },
    {
      "cell_type": "markdown",
      "metadata": {
        "id": "Ll3lqDsXV82O"
      },
      "source": [
        "## Chaine de caractères: Es-tu une collection comme liste ?"
      ]
    },
    {
      "cell_type": "markdown",
      "metadata": {
        "id": "7N9fpq88zMT0"
      },
      "source": [
        "Quand on y pense, les chaînes de caractères peuvent être considérerés comme une collection de caractères. Par exemple, sa taille serait le nombre de caractères et chaque caractère aura un index comme dans les liste. Essayons voir."
      ]
    },
    {
      "cell_type": "code",
      "execution_count": null,
      "metadata": {
        "id": "fYwDtuSRVwXj"
      },
      "outputs": [],
      "source": [
        "nom = \"Kevin\""
      ]
    },
    {
      "cell_type": "code",
      "execution_count": null,
      "metadata": {
        "colab": {
          "base_uri": "https://localhost:8080/"
        },
        "id": "KIjuN1LPVwES",
        "outputId": "6ff06a6c-1cad-44be-aab0-a01f382f6221"
      },
      "outputs": [
        {
          "data": {
            "text/plain": [
              "5"
            ]
          },
          "execution_count": 124,
          "metadata": {},
          "output_type": "execute_result"
        }
      ],
      "source": [
        "len(nom)"
      ]
    },
    {
      "cell_type": "code",
      "execution_count": null,
      "metadata": {
        "colab": {
          "base_uri": "https://localhost:8080/",
          "height": 35
        },
        "id": "mMwk8EnTVv2X",
        "outputId": "97602b16-3ec8-4b13-bed9-e5983f719388"
      },
      "outputs": [
        {
          "data": {
            "text/plain": [
              "'K'"
            ]
          },
          "execution_count": 125,
          "metadata": {},
          "output_type": "execute_result"
        }
      ],
      "source": [
        "nom[0]"
      ]
    },
    {
      "cell_type": "code",
      "execution_count": null,
      "metadata": {
        "colab": {
          "base_uri": "https://localhost:8080/",
          "height": 35
        },
        "id": "b0cpJgsgVvn7",
        "outputId": "0c1f23d5-17ee-4258-e804-0072e4fb4aae"
      },
      "outputs": [
        {
          "data": {
            "text/plain": [
              "'Kevi'"
            ]
          },
          "execution_count": 126,
          "metadata": {},
          "output_type": "execute_result"
        }
      ],
      "source": [
        "nom[:4]"
      ]
    },
    {
      "cell_type": "markdown",
      "metadata": {
        "id": "P6AZ0L4IzMT2"
      },
      "source": [
        "Eh bah, ca fonctionne. Essayons de modifier une lettre."
      ]
    },
    {
      "cell_type": "code",
      "execution_count": null,
      "metadata": {
        "colab": {
          "base_uri": "https://localhost:8080/",
          "height": 162
        },
        "id": "Jebm1Qm1VvZp",
        "outputId": "6867f959-5c46-48bf-fe27-a26360a2cc32"
      },
      "outputs": [
        {
          "ename": "TypeError",
          "evalue": "'str' object does not support item assignment",
          "output_type": "error",
          "traceback": [
            "\u001b[0;31m---------------------------------------------------------------------------\u001b[0m",
            "\u001b[0;31mTypeError\u001b[0m                                 Traceback (most recent call last)",
            "\u001b[0;32m<ipython-input-128-65a3eae51b6a>\u001b[0m in \u001b[0;36m<module>\u001b[0;34m\u001b[0m\n\u001b[0;32m----> 1\u001b[0;31m \u001b[0mnom\u001b[0m\u001b[0;34m[\u001b[0m\u001b[0;36m0\u001b[0m\u001b[0;34m]\u001b[0m \u001b[0;34m=\u001b[0m \u001b[0;34m\"k\"\u001b[0m\u001b[0;34m\u001b[0m\u001b[0;34m\u001b[0m\u001b[0m\n\u001b[0m",
            "\u001b[0;31mTypeError\u001b[0m: 'str' object does not support item assignment"
          ]
        }
      ],
      "source": [
        "nom[0] = \"k\""
      ]
    },
    {
      "cell_type": "markdown",
      "metadata": {
        "id": "GkISXmSXzMT2"
      },
      "source": [
        "Apparement, on ne peut pas modifier une lettre dans une chaine de caractère. Par contre on peut concatener des chaines de caractères comme ceci:"
      ]
    },
    {
      "cell_type": "code",
      "execution_count": null,
      "metadata": {
        "id": "3HwFUzJBzMT2",
        "outputId": "47f43e7e-cedb-4c99-d47a-1a38232a2d7e"
      },
      "outputs": [
        {
          "data": {
            "text/plain": [
              "'Kevin'"
            ]
          },
          "execution_count": 129,
          "metadata": {},
          "output_type": "execute_result"
        }
      ],
      "source": [
        "nom"
      ]
    },
    {
      "cell_type": "code",
      "execution_count": null,
      "metadata": {
        "id": "VNSS9ihqzMT2",
        "outputId": "c6713300-d72d-4d65-b7f7-a21dd2a4ebeb"
      },
      "outputs": [
        {
          "data": {
            "text/plain": [
              "'Kevin Degila'"
            ]
          },
          "execution_count": 130,
          "metadata": {},
          "output_type": "execute_result"
        }
      ],
      "source": [
        "nom + \" Degila\""
      ]
    },
    {
      "cell_type": "code",
      "execution_count": null,
      "metadata": {
        "id": "M9CXsHBezMT2",
        "outputId": "d11240b0-2f49-4869-eb4d-469ea41ee7c6"
      },
      "outputs": [
        {
          "data": {
            "text/plain": [
              "'bonjoura toi'"
            ]
          },
          "execution_count": 131,
          "metadata": {},
          "output_type": "execute_result"
        }
      ],
      "source": [
        "\"bonjour\" +  \"a toi\""
      ]
    },
    {
      "cell_type": "markdown",
      "metadata": {
        "id": "HtAT_x3pzMT3"
      },
      "source": [
        "> Question: Que se passe-t-il quand on additionne des listes ou des dictionnaires ? Si on peut additionner, peut-on multiplier ? Et la soustraction, c'est possible ?"
      ]
    },
    {
      "cell_type": "markdown",
      "metadata": {
        "id": "GutNsfK6zMT3"
      },
      "source": [
        "Voyons désormais quelques fonctions interessantes pour les str"
      ]
    },
    {
      "cell_type": "code",
      "execution_count": null,
      "metadata": {
        "id": "84MrWckVVvFq"
      },
      "outputs": [],
      "source": [
        "bootcamp = 'data science'"
      ]
    },
    {
      "cell_type": "code",
      "execution_count": null,
      "metadata": {
        "id": "q-mipBhLzMT3",
        "outputId": "15488866-1063-463f-f3de-a9838c1242b3"
      },
      "outputs": [
        {
          "data": {
            "text/plain": [
              "'Data Science'"
            ]
          },
          "execution_count": 133,
          "metadata": {},
          "output_type": "execute_result"
        }
      ],
      "source": [
        "bootcamp.title()"
      ]
    },
    {
      "cell_type": "code",
      "execution_count": null,
      "metadata": {
        "colab": {
          "base_uri": "https://localhost:8080/",
          "height": 35
        },
        "id": "fh6kRHUvVu17",
        "outputId": "cd80ad11-0a0a-4614-c751-0a20f56493f2"
      },
      "outputs": [
        {
          "data": {
            "text/plain": [
              "'data science'"
            ]
          },
          "execution_count": 135,
          "metadata": {},
          "output_type": "execute_result"
        }
      ],
      "source": [
        "bootcamp.lower()"
      ]
    },
    {
      "cell_type": "code",
      "execution_count": null,
      "metadata": {
        "id": "6_-txS1izMT4",
        "outputId": "17bea909-2a06-4797-ea5d-4d2f45f62458"
      },
      "outputs": [
        {
          "data": {
            "text/plain": [
              "'DATA SCIENCE'"
            ]
          },
          "execution_count": 136,
          "metadata": {},
          "output_type": "execute_result"
        }
      ],
      "source": [
        "bootcamp.upper()"
      ]
    },
    {
      "cell_type": "code",
      "execution_count": null,
      "metadata": {
        "id": "X0cE_i0vzMT4",
        "outputId": "3daac3bd-df95-4b0e-99ea-f30c26c24ec7"
      },
      "outputs": [
        {
          "data": {
            "text/plain": [
              "2"
            ]
          },
          "execution_count": 142,
          "metadata": {},
          "output_type": "execute_result"
        }
      ],
      "source": [
        "bootcamp.count('a')"
      ]
    },
    {
      "cell_type": "markdown",
      "metadata": {
        "id": "1GMK1oIXXKN4"
      },
      "source": [
        "Comme d'habitude, Voici où trouver d'autres fonctions : https://www.w3schools.com/python/python_strings_methods.asp\n",
        "\n",
        "Et Voici quelques exercices intéressants : https://www.w3schools.com/python/exercise.asp?filename=exercise_strings1"
      ]
    },
    {
      "cell_type": "markdown",
      "metadata": {
        "id": "R6n2dFWQzMT4"
      },
      "source": [
        "## Les F-strings"
      ]
    },
    {
      "cell_type": "markdown",
      "metadata": {
        "id": "47eeYuLRUHRy"
      },
      "source": [
        "Avant de cloturer ce notebook, parlons d'un concept particulier."
      ]
    },
    {
      "cell_type": "markdown",
      "metadata": {
        "id": "So9QBimhzMT4"
      },
      "source": [
        "On a les variables `nom`, `prenom`,  `age` et on aimerait afficher un message spécial du genre:\n",
        "> Je suis `prenom` `nom` et j'ai `age` ans. Voici comment le faire :"
      ]
    },
    {
      "cell_type": "code",
      "execution_count": null,
      "metadata": {
        "id": "citUqtshzMT5"
      },
      "outputs": [],
      "source": [
        "nom = \"Degila\"\n",
        "prenom = \"Kevin\"\n",
        "age = 23"
      ]
    },
    {
      "cell_type": "code",
      "execution_count": null,
      "metadata": {
        "id": "X7XRgob9zMT5"
      },
      "outputs": [],
      "source": [
        "message = f\"Je suis {prenom} {nom} et j'ai {age} ans\""
      ]
    },
    {
      "cell_type": "code",
      "execution_count": null,
      "metadata": {
        "id": "LPPhvhVkzMT5",
        "outputId": "6634a66a-26a1-4f7d-92ef-4a74e51e906c"
      },
      "outputs": [
        {
          "name": "stdout",
          "output_type": "stream",
          "text": [
            "Je suis Kevin Degila et j'ai 23 ans\n"
          ]
        }
      ],
      "source": [
        "print(message)"
      ]
    },
    {
      "cell_type": "markdown",
      "metadata": {
        "id": "gugxss8UzMT5"
      },
      "source": [
        "Un f-string est une chaine de caractères qui commence par un f avant les \" \", et dans laquelle on garde le nom des variables mais en les gardant entre des accolades { }. Ce qui est intéressant, c'est qu'entre ces { }, du code python peut s'executer. Exemple :"
      ]
    },
    {
      "cell_type": "code",
      "execution_count": null,
      "metadata": {
        "id": "UOQqztCjzMT5",
        "outputId": "22c6ce71-5a32-482b-e979-9d706cfac7f0"
      },
      "outputs": [
        {
          "name": "stdout",
          "output_type": "stream",
          "text": [
            "Je suis Kevin Degila et j'ai 43 ans\n"
          ]
        }
      ],
      "source": [
        "print(f\"Je suis {prenom} {nom} et j'ai {age + 20} ans\")"
      ]
    },
    {
      "cell_type": "markdown",
      "metadata": {
        "id": "8RQKB0ogzMT6"
      },
      "source": [
        "On a ajouté 20 à mon age dans les accolades et la somme a été faite. Voilà le strict nécéssaire à savoir concernant les f-strings. Je t'invite à [lire](https://realpython.com/python-f-strings/) un peu plus sur ces chaines de caractères particulieres et tout ce qu'on peut faire avec."
      ]
    }
  ],
  "metadata": {
    "colab": {
      "name": "01_Les Bases_de_Python.ipynb",
      "provenance": [],
      "include_colab_link": true
    },
    "kernelspec": {
      "display_name": "Python 3",
      "language": "python",
      "name": "python3"
    },
    "language_info": {
      "codemirror_mode": {
        "name": "ipython",
        "version": 3
      },
      "file_extension": ".py",
      "mimetype": "text/x-python",
      "name": "python",
      "nbconvert_exporter": "python",
      "pygments_lexer": "ipython3",
      "version": "3.7.6"
    },
    "toc": {
      "base_numbering": 1,
      "nav_menu": {},
      "number_sections": true,
      "sideBar": true,
      "skip_h1_title": false,
      "title_cell": "Table of Contents",
      "title_sidebar": "Contents",
      "toc_cell": false,
      "toc_position": {
        "height": "calc(100% - 180px)",
        "left": "10px",
        "top": "150px",
        "width": "374.2px"
      },
      "toc_section_display": true,
      "toc_window_display": true
    },
    "varInspector": {
      "cols": {
        "lenName": 16,
        "lenType": 16,
        "lenVar": 40
      },
      "kernels_config": {
        "python": {
          "delete_cmd_postfix": "",
          "delete_cmd_prefix": "del ",
          "library": "var_list.py",
          "varRefreshCmd": "print(var_dic_list())"
        },
        "r": {
          "delete_cmd_postfix": ") ",
          "delete_cmd_prefix": "rm(",
          "library": "var_list.r",
          "varRefreshCmd": "cat(var_dic_list()) "
        }
      },
      "types_to_exclude": [
        "module",
        "function",
        "builtin_function_or_method",
        "instance",
        "_Feature"
      ],
      "window_display": false
    }
  },
  "nbformat": 4,
  "nbformat_minor": 0
}